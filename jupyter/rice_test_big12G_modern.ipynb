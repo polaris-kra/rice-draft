{
 "cells": [
  {
   "cell_type": "markdown",
   "metadata": {},
   "source": [
    "# Rice disease v.0.3\n",
    "\n",
    "Huge Kaggle 12G dataset, 4 classes (3 disease + 1 healthy), Modern Architectures\n",
    "\n",
    "https://www.kaggle.com/ellyanalinden/googlenet"
   ]
  },
  {
   "cell_type": "code",
   "execution_count": 1,
   "metadata": {},
   "outputs": [],
   "source": [
    "import os\n",
    "import time\n",
    "import pickle\n",
    "import numpy as np\n",
    "import pandas as pd\n",
    "import matplotlib.pyplot as plt\n",
    "import seaborn as sns \n",
    "from collections import Counter\n",
    "from sklearn.metrics import confusion_matrix\n",
    "\n",
    "import torch\n",
    "import torch.nn as nn\n",
    "import torch.nn.functional as F\n",
    "from torch.utils.data import DataLoader\n",
    "from torch.utils.data.sampler import SubsetRandomSampler\n",
    "from torchvision import datasets,transforms, models\n",
    "from torchvision.utils import make_grid\n",
    "\n",
    "torch.autograd.set_detect_anomaly = True\n",
    "\n",
    "import warnings\n",
    "warnings.filterwarnings('ignore')"
   ]
  },
  {
   "cell_type": "markdown",
   "metadata": {},
   "source": [
    "## Params"
   ]
  },
  {
   "cell_type": "code",
   "execution_count": 2,
   "metadata": {},
   "outputs": [],
   "source": [
    "RANDOM_SEED = 9\n",
    "np.random.seed(RANDOM_SEED)\n",
    "torch.manual_seed(RANDOM_SEED)\n",
    "\n",
    "TRAIN_SIZE = 0.9"
   ]
  },
  {
   "cell_type": "code",
   "execution_count": 3,
   "metadata": {},
   "outputs": [
    {
     "name": "stdout",
     "output_type": "stream",
     "text": [
      "CUDA available: True\n",
      "Device: GeForce GTX 960\n",
      "Memory allocated: 0\n",
      "Memory cached:    0\n"
     ]
    }
   ],
   "source": [
    "avail = torch.cuda.is_available()\n",
    "print(f'CUDA available: {avail}')\n",
    "    \n",
    "if avail:\n",
    "    print(f'Device: {torch.cuda.get_device_name(torch.cuda.current_device())}')\n",
    "    print(f'Memory allocated: {torch.cuda.memory_allocated()}')\n",
    "    print(f'Memory cached:    {torch.cuda.memory_cached()}')\n",
    "    \n",
    "\n",
    "DEVICE = torch.device(\"cuda:0\" if avail else \"cpu\")"
   ]
  },
  {
   "cell_type": "markdown",
   "metadata": {},
   "source": [
    "## Utils"
   ]
  },
  {
   "cell_type": "code",
   "execution_count": 4,
   "metadata": {},
   "outputs": [],
   "source": [
    "def count_parameters(model, verbose=True):\n",
    "    params = [p.numel() for p in model.parameters() if p.requires_grad]\n",
    "    if verbose:\n",
    "        for item in params:\n",
    "            print(f'{item:>8}')\n",
    "    print(f'________\\n{sum(params):>8}')"
   ]
  },
  {
   "cell_type": "code",
   "execution_count": 5,
   "metadata": {},
   "outputs": [],
   "source": [
    "def show_images(loader, class_names, nrow=5, n_batches=1, figsize=(12,4)):\n",
    "    # Grab the first batch of 10 images\n",
    "    images = None\n",
    "    labels = []\n",
    "    \n",
    "    for b, (img, lbl) in enumerate(loader): \n",
    "        if n_batches is not None and b >= n_batches:\n",
    "            break\n",
    "        \n",
    "        images = img if images is None else torch.cat((images, img), dim=0)\n",
    "        labels.extend(lbl.numpy())\n",
    "        \n",
    "    labels = np.array(labels).reshape(-1, nrow)\n",
    "    \n",
    "    # Print the labels\n",
    "    print('Labels:\\n', labels)\n",
    "    print('\\nClasses:', ' | '.join(np.array([class_names[i] for i in labels[0, :5]])), '...')\n",
    "\n",
    "    im = make_grid(images, nrow=nrow)  # the default nrow is 8\n",
    "\n",
    "    # Inverse normalize the images\n",
    "    inv_normalize = transforms.Normalize(\n",
    "        mean=[-0.485/0.229, -0.456/0.224, -0.406/0.225],\n",
    "        std=[1/0.229, 1/0.224, 1/0.225]\n",
    "    )\n",
    "    im_inv = inv_normalize(im)\n",
    "\n",
    "    # Print the images\n",
    "    plt.figure(figsize=figsize)\n",
    "    plt.imshow(np.transpose(im_inv.numpy(), (1, 2, 0)))"
   ]
  },
  {
   "cell_type": "code",
   "execution_count": 6,
   "metadata": {},
   "outputs": [],
   "source": [
    "def plot_train_report(model, \n",
    "                      train_loader, valid_loader,\n",
    "                      train_losses, valid_losses, train_corrects, valid_corrects, \n",
    "                      device):\n",
    "    \n",
    "    fig, ax = plt.subplots(1, 3, figsize=(17, 4))\n",
    "    \n",
    "    train_len = len(train_loader.sampler.indices)\n",
    "    valid_len = len(valid_loader.sampler.indices)\n",
    "    \n",
    "    ax[0].plot(train_losses, label='training loss')\n",
    "    ax[0].plot(valid_losses, label='validation loss')\n",
    "    ax[0].set_title('Loss at the end of each epoch')\n",
    "    ax[0].grid(True)\n",
    "    ax[0].legend()\n",
    "\n",
    "    ax[1].plot([100*t/train_len for t in train_corrects], label='training accuracy')\n",
    "    ax[1].plot([100*t/valid_len for t in valid_corrects], label='validation accuracy')\n",
    "    ax[1].set_title('Accuracy at the end of each epoch')\n",
    "    ax[1].set_ylim((0, 100))\n",
    "    ax[1].grid(True)\n",
    "    ax[1].legend()\n",
    "    \n",
    "    evaluate_model(model, valid_loader, device, 'Validation', ax=ax[2])"
   ]
  },
  {
   "cell_type": "code",
   "execution_count": 7,
   "metadata": {},
   "outputs": [],
   "source": [
    "def plot_confusion_matrix(y_true, y_pred, class_names, ax=None):\n",
    "    ax = ax or plt.gca()\n",
    "    \n",
    "    cm = confusion_matrix(y_true, y_pred)\n",
    "    df_cm = pd.DataFrame(cm, class_names, class_names)\n",
    "    sns.heatmap(df_cm, annot=True, fmt=\"d\", cmap='BuGn', ax=ax)\n",
    "    ax.set_xlabel(\"prediction\")\n",
    "    ax.set_ylabel(\"label (ground truth)\")"
   ]
  },
  {
   "cell_type": "code",
   "execution_count": 8,
   "metadata": {},
   "outputs": [],
   "source": [
    "def evaluate_model(model, data_loader, device, mark, ax=None):\n",
    "    model.eval()\n",
    "    with torch.no_grad():\n",
    "        y_evals = []\n",
    "        y_valids = []\n",
    "\n",
    "        for X_valid, y_valid in data_loader:\n",
    "            y_eval = model(X_valid.to(device)).cpu()\n",
    "            y_evals += list(torch.argmax(y_eval, axis=1).numpy())\n",
    "            y_valids += list(y_valid.numpy())\n",
    "\n",
    "    plot_confusion_matrix(y_valids, y_evals, data_loader.dataset.classes, ax=ax)\n",
    "\n",
    "    print(f'{mark} accuracy:', round((np.array(y_valids) == np.array(y_evals)).sum()*100/len(y_evals), 2), '%')"
   ]
  },
  {
   "cell_type": "code",
   "execution_count": 9,
   "metadata": {},
   "outputs": [],
   "source": [
    "def save_progress(epoch, model, optimizer, \n",
    "                  train_losses, valid_losses, train_corrects, valid_corrects, \n",
    "                  prefix, folder):\n",
    "    state = {\n",
    "        'epoch': epoch, \n",
    "        'model_state': model.state_dict(), \n",
    "        'optimizer_state': optimizer.state_dict(), \n",
    "        'train_losses': train_losses, \n",
    "        'valid_losses': valid_losses, \n",
    "        'train_corrects': train_corrects, \n",
    "        'valid_corrects': valid_corrects\n",
    "    }\n",
    "    \n",
    "    torch.save(state, f'{folder}/train_{prefix}.pt')"
   ]
  },
  {
   "cell_type": "code",
   "execution_count": 10,
   "metadata": {},
   "outputs": [],
   "source": [
    "def restore_progress(model, optimizer,\n",
    "                     train_losses, valid_losses, train_corrects, valid_corrects,\n",
    "                     prefix, folder):\n",
    "    state = torch.load(f'{folder}/train_{prefix}.pt')\n",
    "    \n",
    "    model.load_state_dict(state['model_state'])\n",
    "    optimizer.load_state_dict(state['optimizer_state'])\n",
    "    \n",
    "    train_losses.extend(model['train_losses'])\n",
    "    valid_losses.extend(model['valid_losses'])\n",
    "    train_corrects.extend(model['train_corrects'])\n",
    "    valid_corrects.extend(model['valid_corrects'])\n",
    "    \n",
    "    return state['epoch']"
   ]
  },
  {
   "cell_type": "markdown",
   "metadata": {},
   "source": [
    "## Data"
   ]
  },
  {
   "cell_type": "code",
   "execution_count": 11,
   "metadata": {},
   "outputs": [],
   "source": [
    "img_transforms = {\n",
    "    'train': transforms.Compose([transforms.RandomRotation(30),\n",
    "                                 transforms.RandomResizedCrop(224),\n",
    "                                 transforms.RandomHorizontalFlip(),\n",
    "                                 transforms.ToTensor(),\n",
    "                                 transforms.Normalize([0.485, 0.456, 0.406], \n",
    "                                                      [0.229, 0.224, 0.225])]),\n",
    "    'valid': transforms.Compose([transforms.Resize(224),\n",
    "                                 transforms.CenterCrop(224),\n",
    "                                 transforms.ToTensor(),\n",
    "                                 transforms.Normalize([0.485, 0.456, 0.406], \n",
    "                                                      [0.229, 0.224, 0.225])])\n",
    "}"
   ]
  },
  {
   "cell_type": "code",
   "execution_count": 12,
   "metadata": {},
   "outputs": [],
   "source": [
    "data_folder = 'data/kaggle12Gb/LabelledRice/Labelled'"
   ]
  },
  {
   "cell_type": "code",
   "execution_count": 13,
   "metadata": {},
   "outputs": [],
   "source": [
    "all_data = datasets.ImageFolder(data_folder)\n",
    "img_counts = Counter([img[1] for img in all_data.imgs])\n",
    "cls_counts = {k:img_counts[i] for k,i in all_data.class_to_idx.items()}"
   ]
  },
  {
   "cell_type": "code",
   "execution_count": 14,
   "metadata": {},
   "outputs": [
    {
     "name": "stdout",
     "output_type": "stream",
     "text": [
      "{'BrownSpot': 0, 'Healthy': 1, 'Hispa': 2, 'LeafBlast': 3}\n",
      "{'BrownSpot': 523, 'Healthy': 1488, 'Hispa': 565, 'LeafBlast': 779}\n",
      "Total:  3355\n",
      "\n",
      "Initial stratification:\n",
      "{'BrownSpot': '15.59%', 'Healthy': '44.35%', 'Hispa': '16.84%', 'LeafBlast': '23.22%'}\n"
     ]
    }
   ],
   "source": [
    "print(all_data.class_to_idx)\n",
    "print(cls_counts)\n",
    "print('Total: ', len(all_data))\n",
    "\n",
    "print('\\nInitial stratification:')\n",
    "print({cls : f'{round(100*cnt/len(all_data), 2)}%' for cls,cnt in cls_counts.items()})"
   ]
  },
  {
   "cell_type": "code",
   "execution_count": 15,
   "metadata": {},
   "outputs": [],
   "source": [
    "all_cls = np.array([img[1] for img in all_data.imgs])\n",
    "idx_to_class = np.array([[i, img] for i, img in enumerate(all_cls)])\n",
    "np.random.shuffle(idx_to_class)"
   ]
  },
  {
   "cell_type": "code",
   "execution_count": 16,
   "metadata": {},
   "outputs": [],
   "source": [
    "train_idx = []\n",
    "valid_idx = []\n",
    "\n",
    "class_idx = list(all_data.class_to_idx.values())\n",
    "for i in class_idx:\n",
    "    class_items = idx_to_class[idx_to_class[:, 1] == i][:, 0]\n",
    "    train_len = int(len(class_items)*TRAIN_SIZE)\n",
    "    \n",
    "    train_idx += list(class_items[:train_len])\n",
    "    valid_idx += list(class_items[train_len:])\n",
    "\n",
    "assert set(train_idx) | set(valid_idx) == set(range(len(all_data)))"
   ]
  },
  {
   "cell_type": "code",
   "execution_count": 17,
   "metadata": {},
   "outputs": [
    {
     "name": "stdout",
     "output_type": "stream",
     "text": [
      "Initial stratification:\n",
      "{0: '15.59%', 1: '44.35%', 2: '16.84%', 3: '23.22%'}\n",
      "\n",
      "Train stratification:\n",
      "{0: '15.57%', 1: '44.37%', 2: '16.83%', 3: '23.23%'}\n",
      "\n",
      "Validation stratification:\n",
      "{0: '15.73%', 1: '44.21%', 2: '16.91%', 3: '23.15%'}\n"
     ]
    }
   ],
   "source": [
    "# ensure stratification\n",
    "print('Initial stratification:')\n",
    "print({cls : f'{round(100*cnt/len(all_cls), 2)}%' for (cls, cnt) in Counter(all_cls).items()})\n",
    "\n",
    "print('\\nTrain stratification:')\n",
    "train_cls = all_cls[train_idx]\n",
    "print({cls : f'{round(100*cnt/len(train_cls), 2)}%' for (cls, cnt) in Counter(train_cls).items()})\n",
    "\n",
    "print('\\nValidation stratification:')\n",
    "valid_cls = all_cls[valid_idx]\n",
    "print({cls : f'{round(100*cnt/len(valid_cls), 2)}%' for (cls, cnt) in Counter(valid_cls).items()})"
   ]
  },
  {
   "cell_type": "code",
   "execution_count": 18,
   "metadata": {},
   "outputs": [],
   "source": [
    "train_sampler = SubsetRandomSampler(train_idx)\n",
    "valid_sampler = SubsetRandomSampler(valid_idx)"
   ]
  },
  {
   "cell_type": "code",
   "execution_count": 19,
   "metadata": {},
   "outputs": [],
   "source": [
    "train_loader = DataLoader(datasets.ImageFolder(data_folder, transform=img_transforms['train']), \n",
    "                          batch_size=10, \n",
    "                          sampler=train_sampler,\n",
    "                          pin_memory=False,\n",
    "                          num_workers=4)\n",
    "valid_loader = DataLoader(datasets.ImageFolder(data_folder, transform=img_transforms['valid']), \n",
    "                          batch_size=100, \n",
    "                          sampler=valid_sampler,\n",
    "                          pin_memory=False,\n",
    "                          num_workers=4)"
   ]
  },
  {
   "cell_type": "code",
   "execution_count": 20,
   "metadata": {},
   "outputs": [],
   "source": [
    "# show_images(train_loader, all_data.classes, nrow=8, n_batches=1, figsize=(28, 7))"
   ]
  },
  {
   "cell_type": "markdown",
   "metadata": {},
   "source": [
    "## Train"
   ]
  },
  {
   "cell_type": "code",
   "execution_count": 21,
   "metadata": {},
   "outputs": [],
   "source": [
    "def train(model, criterion, optimizer, \n",
    "          train_loader, valid_loader, \n",
    "          n_epoch, device,\n",
    "          out_train_losses,\n",
    "          out_valid_losses,\n",
    "          out_train_corrects,\n",
    "          out_valid_corrects,\n",
    "          prefix\n",
    "         ):\n",
    "    start_time = time.time()\n",
    "\n",
    "    train_len = len(train_loader.sampler.indices)\n",
    "    valid_len = len(valid_loader.sampler.indices)\n",
    "    n_train_batches = int(train_len/train_loader.batch_size)\n",
    "    n_valid_batches = int(valid_len/valid_loader.batch_size)\n",
    "    best_valid_accuracy = 0\n",
    "    \n",
    "    print('Begin...')\n",
    "    \n",
    "    for i in range(n_epoch):\n",
    "        \n",
    "        # train\n",
    "        \n",
    "        model.train()\n",
    "        \n",
    "        train_correct = 0\n",
    "        \n",
    "        for b, (X_train, y_train) in enumerate(train_loader):\n",
    "            X_train = X_train.to(device)\n",
    "            y_train = y_train.to(device)\n",
    "            optimizer.zero_grad()\n",
    "            \n",
    "            y_pred = model(X_train)\n",
    "            loss = criterion(y_pred, y_train)\n",
    "            loss.backward()\n",
    "            optimizer.step()\n",
    "\n",
    "            y_pred = torch.max(y_pred, dim=1)[1]\n",
    "            train_correct += (y_pred == y_train).sum()\n",
    "            \n",
    "            if b%100 == 0:\n",
    "                print(f'---- batch: {b}({n_train_batches})')\n",
    "            \n",
    "        loss_val = round(float(loss), 2)\n",
    "        correct_pct = round(train_correct.item()*100/train_len, 2)\n",
    "        print(f'Epoch: {i+1}\\tTRAIN\\tLoss: {loss_val}\\tCorrect: {train_correct}/{train_len}({correct_pct}%)')\n",
    "    \n",
    "        out_train_losses.append(loss_val)\n",
    "        out_train_corrects.append(train_correct)\n",
    "        \n",
    "        # validation\n",
    "        \n",
    "        model.eval()\n",
    "        \n",
    "        valid_correct = 0\n",
    "        y_evals = []\n",
    "        y_valids = []\n",
    "        \n",
    "        with torch.no_grad():\n",
    "            for b, (X_valid, y_valid) in enumerate(valid_loader):\n",
    "                X_valid = X_valid.to(device)\n",
    "                y_valid = y_valid.to(device)\n",
    "                y_eval = model(X_valid)\n",
    "                loss = criterion(y_eval, y_valid)\n",
    "                \n",
    "                y_eval = torch.max(y_eval, dim=1)[1]\n",
    "                valid_correct += (y_eval == y_valid).sum()\n",
    "                y_evals += list(y_eval.cpu().view(-1))\n",
    "                y_valids += list(y_valid.cpu().view(-1))\n",
    "            \n",
    "        loss_val = round(float(loss), 2)\n",
    "        correct_pct = round(valid_correct.item()*100/valid_len, 2)\n",
    "        print(f'\\t\\tVALID.:\\tLoss: {loss_val}\\tCorrect: {valid_correct}/{valid_len}({correct_pct}%)')\n",
    "        print('----------------------------------------')\n",
    "    \n",
    "        out_valid_losses.append(loss_val)\n",
    "        out_valid_corrects.append(valid_correct)\n",
    "        \n",
    "        # plot results\n",
    "        plot_confusion_matrix(y_valids, y_evals, train_loader.dataset.classes)\n",
    "        plt.show()\n",
    "        \n",
    "        # save results\n",
    "        if (i+1)%50==0:\n",
    "            save_progress(i+1, \n",
    "                          model, optimizer, \n",
    "                          out_train_losses, out_valid_losses, out_train_corrects, out_valid_corrects, \n",
    "                          f'{prefix}_e{i+1}', 'progress')\n",
    "\n",
    "        # save the best\n",
    "        if correct_pct > best_valid_accuracy:\n",
    "            best_valid_accuracy = correct_pct\n",
    "            save_progress(i+1,\n",
    "                          model, optimizer, \n",
    "                          out_train_losses, out_valid_losses, out_train_corrects, out_valid_corrects, \n",
    "                          f'{prefix}_e{i+1}_best{correct_pct}', 'progress')\n",
    "            \n",
    "            print('\\tBest validation accuracy:', best_valid_accuracy)\n",
    "\n",
    "    end_time = time.time()\n",
    "    print(f'End.\\nDuration: {time.time() - start_time:.0f} seconds')"
   ]
  },
  {
   "cell_type": "markdown",
   "metadata": {},
   "source": [
    "## GoogleNet"
   ]
  },
  {
   "cell_type": "code",
   "execution_count": 34,
   "metadata": {},
   "outputs": [],
   "source": [
    "model_googlenet = models.googlenet(pretrained=True)"
   ]
  },
  {
   "cell_type": "code",
   "execution_count": 35,
   "metadata": {},
   "outputs": [
    {
     "name": "stdout",
     "output_type": "stream",
     "text": [
      "________\n",
      " 6624904\n"
     ]
    }
   ],
   "source": [
    "count_parameters(model_googlenet, verbose=False)"
   ]
  },
  {
   "cell_type": "code",
   "execution_count": 36,
   "metadata": {},
   "outputs": [
    {
     "data": {
      "text/plain": [
       "False"
      ]
     },
     "execution_count": 36,
     "metadata": {},
     "output_type": "execute_result"
    }
   ],
   "source": [
    "next(model_googlenet.parameters()).is_cuda"
   ]
  },
  {
   "cell_type": "code",
   "execution_count": 37,
   "metadata": {},
   "outputs": [],
   "source": [
    "for param in model_googlenet.parameters():\n",
    "    param.requires_grad=True"
   ]
  },
  {
   "cell_type": "code",
   "execution_count": 38,
   "metadata": {
    "scrolled": true
   },
   "outputs": [
    {
     "name": "stdout",
     "output_type": "stream",
     "text": [
      "________\n",
      " 5602979\n"
     ]
    }
   ],
   "source": [
    "n_inputs = model_googlenet.fc.in_features\n",
    "model_googlenet.fc = nn.Linear(n_inputs, 4)\n",
    "model_googlenet = model_googlenet.to(DEVICE)\n",
    "\n",
    "count_parameters(model_googlenet, verbose=False)"
   ]
  },
  {
   "cell_type": "code",
   "execution_count": 39,
   "metadata": {},
   "outputs": [],
   "source": [
    "optimizer = torch.optim.Adam(model_googlenet.parameters(), lr=0.001)\n",
    "criterion = nn.CrossEntropyLoss()"
   ]
  },
  {
   "cell_type": "code",
   "execution_count": 40,
   "metadata": {},
   "outputs": [],
   "source": [
    "train_losses = []\n",
    "valid_losses = []\n",
    "train_corrects = []\n",
    "valid_corrects = []"
   ]
  },
  {
   "cell_type": "code",
   "execution_count": 41,
   "metadata": {},
   "outputs": [],
   "source": [
    "# restore_progress(model, optimizer,\n",
    "#                  train_losses, valid_losses, train_corrects, valid_corrects,\n",
    "#                  'googlenet_e240_best86.35','progress')"
   ]
  },
  {
   "cell_type": "code",
   "execution_count": 43,
   "metadata": {
    "scrolled": true
   },
   "outputs": [
    {
     "name": "stdout",
     "output_type": "stream",
     "text": [
      "Begin...\n",
      "torch.Size([10, 3])\n",
      "tensor([-0.1763,  0.4334, -0.5921], device='cuda:0', grad_fn=<SelectBackward>)\n",
      "torch.Size([10])\n",
      "tensor(2, device='cuda:0')\n"
     ]
    },
    {
     "ename": "Exception",
     "evalue": "@@@@@@@@@@@@@@@@@@@@@@",
     "output_type": "error",
     "traceback": [
      "\u001b[0;31m---------------------------------------------------------------------------\u001b[0m",
      "\u001b[0;31mException\u001b[0m                                 Traceback (most recent call last)",
      "\u001b[0;32m<ipython-input-43-01f1f58c947d>\u001b[0m in \u001b[0;36m<module>\u001b[0;34m\u001b[0m\n\u001b[1;32m      6\u001b[0m       \u001b[0mout_train_corrects\u001b[0m\u001b[0;34m=\u001b[0m\u001b[0mtrain_corrects\u001b[0m\u001b[0;34m,\u001b[0m\u001b[0;34m\u001b[0m\u001b[0;34m\u001b[0m\u001b[0m\n\u001b[1;32m      7\u001b[0m       \u001b[0mout_valid_corrects\u001b[0m\u001b[0;34m=\u001b[0m\u001b[0mvalid_corrects\u001b[0m\u001b[0;34m,\u001b[0m\u001b[0;34m\u001b[0m\u001b[0;34m\u001b[0m\u001b[0m\n\u001b[0;32m----> 8\u001b[0;31m       prefix='googlenet')\n\u001b[0m",
      "\u001b[0;32m<ipython-input-42-24a38600357a>\u001b[0m in \u001b[0;36mtrain\u001b[0;34m(model, criterion, optimizer, train_loader, valid_loader, n_epoch, device, out_train_losses, out_valid_losses, out_train_corrects, out_valid_corrects, prefix)\u001b[0m\n\u001b[1;32m     40\u001b[0m             \u001b[0mprint\u001b[0m\u001b[0;34m(\u001b[0m\u001b[0my_train\u001b[0m\u001b[0;34m.\u001b[0m\u001b[0mshape\u001b[0m\u001b[0;34m)\u001b[0m\u001b[0;34m\u001b[0m\u001b[0;34m\u001b[0m\u001b[0m\n\u001b[1;32m     41\u001b[0m             \u001b[0mprint\u001b[0m\u001b[0;34m(\u001b[0m\u001b[0my_train\u001b[0m\u001b[0;34m[\u001b[0m\u001b[0;36m0\u001b[0m\u001b[0;34m]\u001b[0m\u001b[0;34m)\u001b[0m\u001b[0;34m\u001b[0m\u001b[0;34m\u001b[0m\u001b[0m\n\u001b[0;32m---> 42\u001b[0;31m             \u001b[0;32mraise\u001b[0m \u001b[0mException\u001b[0m\u001b[0;34m(\u001b[0m\u001b[0;34m'@@@@@@@@@@@@@@@@@@@@@@'\u001b[0m\u001b[0;34m)\u001b[0m\u001b[0;34m\u001b[0m\u001b[0;34m\u001b[0m\u001b[0m\n\u001b[0m\u001b[1;32m     43\u001b[0m \u001b[0;34m\u001b[0m\u001b[0m\n\u001b[1;32m     44\u001b[0m             \u001b[0my_pred\u001b[0m \u001b[0;34m=\u001b[0m \u001b[0mtorch\u001b[0m\u001b[0;34m.\u001b[0m\u001b[0mmax\u001b[0m\u001b[0;34m(\u001b[0m\u001b[0my_pred\u001b[0m\u001b[0;34m,\u001b[0m \u001b[0mdim\u001b[0m\u001b[0;34m=\u001b[0m\u001b[0;36m1\u001b[0m\u001b[0;34m)\u001b[0m\u001b[0;34m[\u001b[0m\u001b[0;36m1\u001b[0m\u001b[0;34m]\u001b[0m\u001b[0;34m\u001b[0m\u001b[0;34m\u001b[0m\u001b[0m\n",
      "\u001b[0;31mException\u001b[0m: @@@@@@@@@@@@@@@@@@@@@@"
     ]
    }
   ],
   "source": [
    "train(model_googlenet, criterion, optimizer,\n",
    "      train_loader, valid_loader, \n",
    "      n_epoch=300, device=DEVICE,\n",
    "      out_train_losses=train_losses,\n",
    "      out_valid_losses=valid_losses,\n",
    "      out_train_corrects=train_corrects,\n",
    "      out_valid_corrects=valid_corrects,\n",
    "      prefix='googlenet')"
   ]
  },
  {
   "cell_type": "code",
   "execution_count": 31,
   "metadata": {},
   "outputs": [
    {
     "name": "stdout",
     "output_type": "stream",
     "text": [
      "Validation accuracy: 91.79 %\n"
     ]
    },
    {
     "data": {
      "image/png": "[encoded data removed]",
      "text/plain": [
       "<Figure size 1224x288 with 4 Axes>"
      ]
     },
     "metadata": {
      "needs_background": "light"
     },
     "output_type": "display_data"
    }
   ],
   "source": [
    "plot_train_report(model_googlenet, \n",
    "                  train_loader, valid_loader,\n",
    "                  train_losses, valid_losses, train_corrects, valid_corrects, \n",
    "                  DEVICE)"
   ]
  },
  {
   "cell_type": "code",
   "execution_count": null,
   "metadata": {},
   "outputs": [],
   "source": []
  },
  {
   "cell_type": "code",
   "execution_count": null,
   "metadata": {},
   "outputs": [],
   "source": []
  },
  {
   "cell_type": "code",
   "execution_count": null,
   "metadata": {},
   "outputs": [],
   "source": []
  }
 ],
 "metadata": {
  "kernelspec": {
   "display_name": "Python 3",
   "language": "python",
   "name": "python3"
  },
  "language_info": {
   "codemirror_mode": {
    "name": "ipython",
    "version": 3
   },
   "file_extension": ".py",
   "mimetype": "text/x-python",
   "name": "python",
   "nbconvert_exporter": "python",
   "pygments_lexer": "ipython3",
   "version": "3.7.3"
  }
 },
 "nbformat": 4,
 "nbformat_minor": 2
}
